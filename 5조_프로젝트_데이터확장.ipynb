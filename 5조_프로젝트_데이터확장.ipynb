{
  "nbformat": 4,
  "nbformat_minor": 0,
  "metadata": {
    "colab": {
      "name": "5조 프로젝트_데이터확장",
      "provenance": [],
      "collapsed_sections": [],
      "include_colab_link": true
    },
    "kernelspec": {
      "display_name": "Python 3",
      "language": "python",
      "name": "python3"
    },
    "language_info": {
      "codemirror_mode": {
        "name": "ipython",
        "version": 3
      },
      "file_extension": ".py",
      "mimetype": "text/x-python",
      "name": "python",
      "nbconvert_exporter": "python",
      "pygments_lexer": "ipython3",
      "version": "3.7.6"
    },
    "toc": {
      "base_numbering": 1,
      "nav_menu": {},
      "number_sections": false,
      "sideBar": true,
      "skip_h1_title": false,
      "title_cell": "Table of Contents",
      "title_sidebar": "Contents",
      "toc_cell": false,
      "toc_position": {
        "height": "calc(100% - 180px)",
        "left": "10px",
        "top": "150px",
        "width": "202.675px"
      },
      "toc_section_display": true,
      "toc_window_display": false
    }
  },
  "cells": [
    {
      "cell_type": "markdown",
      "metadata": {
        "id": "view-in-github",
        "colab_type": "text"
      },
      "source": [
        "<a href=\"https://colab.research.google.com/github/Deepfull/BootCamp/blob/main/5%EC%A1%B0_%ED%94%84%EB%A1%9C%EC%A0%9D%ED%8A%B8_%EB%8D%B0%EC%9D%B4%ED%84%B0%ED%99%95%EC%9E%A5.ipynb\" target=\"_parent\"><img src=\"https://colab.research.google.com/assets/colab-badge.svg\" alt=\"Open In Colab\"/></a>"
      ]
    },
    {
      "cell_type": "markdown",
      "metadata": {
        "id": "sM9EAxW-oCCB"
      },
      "source": [
        "- 데이터확장"
      ]
    },
    {
      "cell_type": "code",
      "metadata": {
        "id": "8B2q9YpA9etK"
      },
      "source": [
        "import pandas as pd\n",
        "import numpy as np\n",
        "import matplotlib.pyplot as plt\n",
        "%matplotlib inline\n",
        "%config InlineBackend.figure_format = 'retina'"
      ],
      "execution_count": 1,
      "outputs": []
    },
    {
      "cell_type": "code",
      "metadata": {
        "id": "22WtGOUwMXZ2"
      },
      "source": [
        "# 1-1\n",
        "# 1-2\n",
        "# 2-1\n",
        "# 2-2\n",
        "# 3-2\n",
        "# 4-1\n",
        "# 4-2"
      ],
      "execution_count": 2,
      "outputs": []
    },
    {
      "cell_type": "code",
      "metadata": {
        "colab": {
          "base_uri": "https://localhost:8080/"
        },
        "id": "dBORhcac9eRE",
        "outputId": "880177d2-735c-49f3-f2f2-1a79cba3fde4"
      },
      "source": [
        "# case 1-1 데이터 읽음\n",
        "data_11ca = pd.read_csv('https://raw.githubusercontent.com/eupshin/BootCamp/main/ca1_1.csv')\n",
        "print(data_11ca.shape)\n",
        "df_11ca = data_11ca.copy()\n",
        "\n",
        "data_11oa = pd.read_csv('https://raw.githubusercontent.com/eupshin/BootCamp/main/oa1_1.csv')\n",
        "print(data_11oa.shape)\n",
        "df_11oa = data_11oa.copy()"
      ],
      "execution_count": 3,
      "outputs": [
        {
          "output_type": "stream",
          "text": [
            "(900, 7)\n",
            "(90, 4)\n"
          ],
          "name": "stdout"
        }
      ]
    },
    {
      "cell_type": "code",
      "metadata": {
        "id": "N-PJZFvNfCGw"
      },
      "source": [
        "# CA,RA 데이터 정리\n",
        "df_11ca['time']=list(range(0,900))\n",
        "df_11ca = df_11ca.drop('time1', axis=1)\n",
        "\n",
        "# OA 데이터 정리\n",
        "df_11oa = df_11oa.drop('time2', axis=1)\n",
        "df = pd.DataFrame(columns=['OAPM10','OAPM2.5', 'OAPM1'])\n",
        "for j in range(0,90):\n",
        "  for i in range(0,10):\n",
        "    df.loc[i+j*10] = df_11oa.loc[j][['OAPM10','OAPM2.5', 'OAPM1']]\n",
        "\n",
        "# case 11 데이터 정리\n",
        "df_11 = pd.concat([df_11ca,df],axis=1)\n",
        "\n",
        "# 필터 : 전기집진(0), MERV(1)\n",
        "df_11['filter_esp'] = 1\n",
        "df_11['filter_merv'] = 0\n",
        "# 순환 : 외기(0), 내기(1)\n",
        "df_11['circulation_ex'] = 1\n",
        "df_11['circulation_in'] = 0\n",
        "# 풍량 : 강풍(0), 약풍(1)\n",
        "df_11['flow rate_strong'] = 1\n",
        "df_11['flow rate_weak'] = 0\n",
        "# 공청기 : OFF(0), ON(1)\n",
        "df_11['air purifier_off'] = 1\n",
        "df_11['air purifier_on'] = 0"
      ],
      "execution_count": 4,
      "outputs": []
    },
    {
      "cell_type": "code",
      "metadata": {
        "colab": {
          "base_uri": "https://localhost:8080/"
        },
        "id": "0Rj5TI9FzEmc",
        "outputId": "00e37d3b-d84f-4881-8800-2c1adf07eebb"
      },
      "source": [
        "# case 1-2 데이터 읽음\n",
        "data_12ca = pd.read_csv(\n",
        "    'https://raw.githubusercontent.com/eupshin/BootCamp/main/ca1_2.csv')\n",
        "print(data_12ca.shape)\n",
        "df_12ca = data_12ca.copy()\n",
        "\n",
        "data_12oa = pd.read_csv(\n",
        "    'https://raw.githubusercontent.com/eupshin/BootCamp/main/oa1_2.csv')\n",
        "print(data_12oa.shape)\n",
        "df_12oa = data_12oa.copy()"
      ],
      "execution_count": 5,
      "outputs": [
        {
          "output_type": "stream",
          "text": [
            "(900, 7)\n",
            "(90, 4)\n"
          ],
          "name": "stdout"
        }
      ]
    },
    {
      "cell_type": "code",
      "metadata": {
        "id": "pwP7wFXqzMTx"
      },
      "source": [
        "# CA,RA 데이터 정리\n",
        "df_12ca['time']=list(range(0,900))\n",
        "df_12ca = df_12ca.drop('time1', axis=1)\n",
        "\n",
        "# OA 데이터 정리\n",
        "df_12oa = df_12oa.drop('time2', axis=1)\n",
        "df = pd.DataFrame(columns=['OAPM10','OAPM2.5', 'OAPM1'])\n",
        "for j in range(0,90):\n",
        "  for i in range(0,10):\n",
        "    df.loc[i+j*10] = df_12oa.loc[j][['OAPM10','OAPM2.5', 'OAPM1']]\n",
        "\n",
        "# case 11 데이터 정리\n",
        "df_12 = pd.concat([df_12ca,df],axis=1)\n",
        "\n",
        "# 필터 : 전기집진(0), MERV(1)\n",
        "df_12['filter_esp'] = 1\n",
        "df_12['filter_merv'] = 0\n",
        "# 순환 : 외기(0), 내기(1)\n",
        "df_12['circulation_ex'] = 1\n",
        "df_12['circulation_in'] = 0\n",
        "# 풍량 : 강풍(0), 약풍(1)\n",
        "df_12['flow rate_strong'] = 1\n",
        "df_12['flow rate_weak'] = 0\n",
        "# 공청기 : OFF(0), ON(1)\n",
        "df_12['air purifier_off'] = 0\n",
        "df_12['air purifier_on'] = 1"
      ],
      "execution_count": 6,
      "outputs": []
    },
    {
      "cell_type": "code",
      "metadata": {
        "id": "Y-5CZ3D_acuS"
      },
      "source": [
        "# t = t0일 때의 농도 값으로 t = t0 + 100일때의 농도 값을 예측 \n",
        "# 학습데이터\n",
        "# X           y\n",
        "# data @ t=0  data @ t=10\n",
        "# data @ t=1  data @ t=11\n",
        "# data @ t=2  data @ t=12\n",
        "# data @ t=3  data @ t=13\n",
        "\n",
        "df1_x = df_11[['CAPM10', 'CAPM2.5', 'CAPM1', \n",
        "               'OAPM10', 'OAPM2.5', 'OAPM1', \n",
        "               'filter_esp', 'filter_merv', \n",
        "               'circulation_ex', 'circulation_in', \n",
        "               'flow rate_strong', 'flow rate_weak', \n",
        "               'air purifier_off', 'air purifier_on']][:800]\n",
        "df1_y = df_11[['CAPM10', 'CAPM2.5', 'CAPM1', \n",
        "               'RAPM10', 'RAPM2.5', 'RAPM1']][100:900]\n",
        "df2_x = df_12[['CAPM10', 'CAPM2.5', 'CAPM1', \n",
        "               'OAPM10', 'OAPM2.5', 'OAPM1', \n",
        "               'filter_esp', 'filter_merv', \n",
        "               'circulation_ex', 'circulation_in', \n",
        "               'flow rate_strong', 'flow rate_weak', \n",
        "               'air purifier_off', 'air purifier_on']][:800]\n",
        "df2_y = df_12[['CAPM10', 'CAPM2.5', 'CAPM1', \n",
        "               'RAPM10', 'RAPM2.5', 'RAPM1']][100:900]\n",
        "\n",
        "df_x = pd.concat([df1_x, df2_x]) \n",
        "df_y = pd.concat([df1_y, df2_y])"
      ],
      "execution_count": 9,
      "outputs": []
    },
    {
      "cell_type": "code",
      "metadata": {
        "colab": {
          "base_uri": "https://localhost:8080/"
        },
        "id": "xo2rz0_iXi1M",
        "outputId": "2803e18b-51d3-4127-edeb-0dc84c2ca30b"
      },
      "source": [
        "df_x.shape"
      ],
      "execution_count": 10,
      "outputs": [
        {
          "output_type": "execute_result",
          "data": {
            "text/plain": [
              "(1600, 14)"
            ]
          },
          "metadata": {
            "tags": []
          },
          "execution_count": 10
        }
      ]
    },
    {
      "cell_type": "code",
      "metadata": {
        "colab": {
          "base_uri": "https://localhost:8080/"
        },
        "id": "_3bS55iMXm0d",
        "outputId": "f01a215e-43b9-4fac-8c2e-c9a617945659"
      },
      "source": [
        "df_y.shape"
      ],
      "execution_count": 11,
      "outputs": [
        {
          "output_type": "execute_result",
          "data": {
            "text/plain": [
              "(1600, 6)"
            ]
          },
          "metadata": {
            "tags": []
          },
          "execution_count": 11
        }
      ]
    },
    {
      "cell_type": "code",
      "metadata": {
        "id": "EC4LkCjOakSZ"
      },
      "source": [
        "from sklearn.model_selection import train_test_split, cross_val_score\n",
        "X_train, X_test, y_train, y_test = train_test_split(df_x, df_y, random_state=9)"
      ],
      "execution_count": 12,
      "outputs": []
    },
    {
      "cell_type": "code",
      "metadata": {
        "id": "fomfaedgyv5Y"
      },
      "source": [
        "X_train = np.array(X_train)\n",
        "X_test = np.array(X_test)\n",
        "y_train =np.array(y_train)\n",
        "y_test = np.array(y_test)"
      ],
      "execution_count": 13,
      "outputs": []
    },
    {
      "cell_type": "code",
      "metadata": {
        "colab": {
          "base_uri": "https://localhost:8080/"
        },
        "id": "PXsAcOAFaxtx",
        "outputId": "cb66d9d0-720c-4429-bb3e-750d80036537"
      },
      "source": [
        "from sklearn.ensemble import RandomForestRegressor\n",
        "rfr = RandomForestRegressor(n_estimators=20)\n",
        "rfr.fit(X_train, y_train)\n",
        "rfr.score(X_test, y_test)"
      ],
      "execution_count": 14,
      "outputs": [
        {
          "output_type": "stream",
          "text": [
            "/usr/local/lib/python3.7/dist-packages/sklearn/base.py:434: FutureWarning: The default value of multioutput (not exposed in score method) will change from 'variance_weighted' to 'uniform_average' in 0.23 to keep consistent with 'metrics.r2_score'. To specify the default value manually and avoid the warning, please either call 'metrics.r2_score' directly or make a custom scorer with 'metrics.make_scorer' (the built-in scorer 'r2' uses multioutput='uniform_average').\n",
            "  \"multioutput='uniform_average').\", FutureWarning)\n"
          ],
          "name": "stderr"
        },
        {
          "output_type": "execute_result",
          "data": {
            "text/plain": [
              "0.4585129996920247"
            ]
          },
          "metadata": {
            "tags": []
          },
          "execution_count": 14
        }
      ]
    },
    {
      "cell_type": "code",
      "metadata": {
        "id": "qE1YBSfsyXqn",
        "colab": {
          "base_uri": "https://localhost:8080/",
          "height": 312
        },
        "outputId": "9aeb764d-380d-450c-e79f-a759ccac7dc4"
      },
      "source": [
        "y_pred = rfr.predict(X_test)\n",
        "\n",
        "plt.figure(figsize=(7,4))\n",
        "plt.scatter(y_test[:,0],y_pred[:,0])\n",
        "plt.scatter(y_test[:,1],y_pred[:,1])\n",
        "plt.title('PM2.5, PM10')\n",
        "plt.legend(['PM2.5','PM10'])\n",
        "plt.xlabel('y_test')\n",
        "plt.ylabel('y_pred')\n",
        "plt.plot([0,25],[0,25],'--')"
      ],
      "execution_count": 15,
      "outputs": [
        {
          "output_type": "execute_result",
          "data": {
            "text/plain": [
              "[<matplotlib.lines.Line2D at 0x7f39d7e6f8d0>]"
            ]
          },
          "metadata": {
            "tags": []
          },
          "execution_count": 15
        },
        {
          "output_type": "display_data",
          "data": {
            "image/png": "[encoded data removed]",
            "text/plain": [
              "<Figure size 504x288 with 1 Axes>"
            ]
          },
          "metadata": {
            "tags": [],
            "image/png": {
              "width": 438,
              "height": 277
            },
            "needs_background": "light"
          }
        }
      ]
    },
    {
      "cell_type": "code",
      "metadata": {
        "id": "rx8z_KJ95Cma"
      },
      "source": [
        "# t0 에서의 값으로 (t0+1) ~ (t0+10) 사이의 값을 예측\n",
        "# 학습데이터\n",
        "# X           y\n",
        "# data @ t=0  data @ t=1~10\n",
        "# data @ t=1  data @ t=2~11\n",
        "# data @ t=2  data @ t=3~12\n",
        "# data @ t=3  data @ t=4~13\n",
        "#\n",
        "# 만약에 t = (t0+1) ~ (t0+20) 사이의 값을 예측하고 싶다면\n",
        "# 위의 학습으로 예측된 t0+10값을 X로 입력하여 다음 10개 time step 값을 예측함\n",
        "# Sequential regression\n",
        "\n",
        "# Linear Model(여러번 돌려야됨), MLP\n",
        "\n",
        "# LSTM을 통한 시계열 예측, MLP의 depth가 있음"
      ],
      "execution_count": null,
      "outputs": []
    },
    {
      "cell_type": "code",
      "metadata": {
        "id": "q0P1nGF02r5x"
      },
      "source": [
        ""
      ],
      "execution_count": null,
      "outputs": []
    }
  ]
}